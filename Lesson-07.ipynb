{
 "cells": [
  {
   "cell_type": "code",
   "execution_count": 7,
   "id": "ef48d435-a510-4bfd-b161-fdadcbc3426d",
   "metadata": {},
   "outputs": [
    {
     "name": "stdout",
     "output_type": "stream",
     "text": [
      "10 <class 'int'> 140714559325256 True 28 28\n"
     ]
    }
   ],
   "source": [
    "# Variables \n",
    "import sys\n",
    "x =10\n",
    "print(x, type(x), id(x), isinstance(x,int), sys.getsizeof(x),sys.getsizeof(int()))"
   ]
  },
  {
   "cell_type": "code",
   "execution_count": null,
   "id": "aec4d155-3e6c-4cf8-b3f5-f8c0080808b8",
   "metadata": {},
   "outputs": [],
   "source": []
  }
 ],
 "metadata": {
  "kernelspec": {
   "display_name": "Python 3 (ipykernel)",
   "language": "python",
   "name": "python3"
  },
  "language_info": {
   "codemirror_mode": {
    "name": "ipython",
    "version": 3
   },
   "file_extension": ".py",
   "mimetype": "text/x-python",
   "name": "python",
   "nbconvert_exporter": "python",
   "pygments_lexer": "ipython3",
   "version": "3.11.7"
  }
 },
 "nbformat": 4,
 "nbformat_minor": 5
}
